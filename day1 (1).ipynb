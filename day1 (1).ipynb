{
  "nbformat": 4,
  "nbformat_minor": 0,
  "metadata": {
    "colab": {
      "provenance": []
    },
    "kernelspec": {
      "name": "python3",
      "display_name": "Python 3"
    },
    "language_info": {
      "name": "python"
    }
  },
  "cells": [
    {
      "cell_type": "code",
      "source": [
        "\n",
        "import pandas as pd\n",
        "import numpy as np\n",
        "import matplotlib.pyplot as plt\n",
        "import seaborn as sns\n"
      ],
      "metadata": {
        "id": "VFxp3tt7-Ilv"
      },
      "execution_count": null,
      "outputs": []
    },
    {
      "cell_type": "markdown",
      "source": [],
      "metadata": {
        "id": "Yl2fGnOw_FLZ"
      }
    },
    {
      "cell_type": "code",
      "source": [
        "!git clone 'https://github.com/GeeksforgeeksDS/21-Days-21-Projects-Dataset'"
      ],
      "metadata": {
        "id": "G9CSUbT4-stq"
      },
      "execution_count": null,
      "outputs": []
    },
    {
      "cell_type": "code",
      "source": [
        "df=pd.read_csv(\"Titanic-Dataset.csv\")\n",
        "df.head()\n"
      ],
      "metadata": {
        "id": "oEQ8dNSJ_Ky3"
      },
      "execution_count": null,
      "outputs": []
    },
    {
      "cell_type": "code",
      "source": [
        "df.shape"
      ],
      "metadata": {
        "id": "DOsCYaJg_41S"
      },
      "execution_count": null,
      "outputs": []
    },
    {
      "cell_type": "code",
      "source": [
        "df.info()"
      ],
      "metadata": {
        "id": "o5xF4Yn1__th"
      },
      "execution_count": null,
      "outputs": []
    },
    {
      "cell_type": "code",
      "source": [
        "df.describe()"
      ],
      "metadata": {
        "id": "UCxS2euiAHMP"
      },
      "execution_count": null,
      "outputs": []
    },
    {
      "cell_type": "code",
      "source": [
        "df.isnull().sum()"
      ],
      "metadata": {
        "id": "FxgVTt24ANF1"
      },
      "execution_count": null,
      "outputs": []
    },
    {
      "cell_type": "code",
      "source": [
        "df[\"Age\"]=df[\"Age\"].fillna(df[\"Age\"].median())"
      ],
      "metadata": {
        "id": "QPJyPX3JAep8"
      },
      "execution_count": null,
      "outputs": []
    },
    {
      "cell_type": "code",
      "source": [
        "df[\"Embarked\"] =df[\"Embarked\"].fillna(df[\"Embarked\"].mode()[0])"
      ],
      "metadata": {
        "id": "eDrVpVFcAo70"
      },
      "execution_count": null,
      "outputs": []
    },
    {
      "cell_type": "code",
      "source": [
        "print(df[['Age', 'Embarked', 'Cabin']].isna().sum())"
      ],
      "metadata": {
        "id": "OYHI_Q9QAv5A"
      },
      "execution_count": null,
      "outputs": []
    },
    {
      "cell_type": "code",
      "source": [
        "df.drop(\"Cabin\",axis=1,inplace=True)"
      ],
      "metadata": {
        "id": "GMnHXscWA195"
      },
      "execution_count": null,
      "outputs": []
    },
    {
      "cell_type": "code",
      "source": [
        "df.head()"
      ],
      "metadata": {
        "id": "qQ03OhEwBDpm"
      },
      "execution_count": null,
      "outputs": []
    },
    {
      "cell_type": "code",
      "source": [
        "import  seaborn as sns"
      ],
      "metadata": {
        "id": "iUD8c5bHBK8u"
      },
      "execution_count": null,
      "outputs": []
    },
    {
      "cell_type": "code",
      "source": [
        "sns.countplot(x=\"Survived\",data =df).set_title('Survived vs Died')\n",
        "plt.show()\n",
        "sns.countplot(x=\"Pclass\",hue=\"Survived\" ,data =df).set_title('passenger Class')\n",
        "plt.show()"
      ],
      "metadata": {
        "id": "gJ_V7rPwBuC4"
      },
      "execution_count": null,
      "outputs": []
    },
    {
      "cell_type": "code",
      "source": [
        "plt.hist(df[\"Age\"].dropna(), bins=30, edgecolor=\"black\")\n",
        "plt.xlabel(\"Age\")\n",
        "plt.ylabel(\"Count\")\n",
        "plt.title(\"Age Distribution of Passengers\")\n",
        "plt.show()"
      ],
      "metadata": {
        "id": "eBgWwxmHDZwn"
      },
      "execution_count": null,
      "outputs": []
    },
    {
      "cell_type": "code",
      "source": [
        "sns.boxplot(x=\"Pclass\", y=\"Fare\",data=df)\n",
        "plt.title(\"Fare Distribution by class\")\n",
        "plt.show()"
      ],
      "metadata": {
        "id": "ocnsnmzJDlm1"
      },
      "execution_count": null,
      "outputs": []
    },
    {
      "cell_type": "code",
      "source": [
        "g = sns.FacetGrid(df, col='Survived', height=6)\n",
        "g.map(sns.histplot, 'Age', bins=25, kde=True)\n",
        "plt.suptitle('Age Distribution and  Survival Status', y=1.02)\n",
        "plt.show()"
      ],
      "metadata": {
        "id": "l0V7vGxjEEyS"
      },
      "execution_count": null,
      "outputs": []
    },
    {
      "cell_type": "code",
      "source": [
        "g = sns.catplot(x='Pclass', y='Survived', hue='Sex', data=df, kind='bar', height=6, aspect=1.5)\n",
        "g.fig.suptitle('Survival Rate by Pclass and Sex', y=1.02) # Use fig.suptitle to set the title\n",
        "plt.ylabel('Survival Probability')\n",
        "plt.show()"
      ],
      "metadata": {
        "id": "V0spxcSKEay2"
      },
      "execution_count": null,
      "outputs": []
    },
    {
      "cell_type": "code",
      "source": [
        "plt.figure(figsize=(8,6))\n",
        "sns.heatmap(df.corr(numeric_only=True), annot=True, cmap=\"coolwarm\")\n",
        "plt.title(\"Correlation   Heatmap\")\n",
        "plt.show()"
      ],
      "metadata": {
        "id": "cIfecyQPE7Iu"
      },
      "execution_count": null,
      "outputs": []
    },
    {
      "cell_type": "code",
      "source": [
        "sample_data = {'col1': [1, 2, 3, 4],\n",
        "               'col2': ['A', 'B', 'C', 'D'],\n",
        "               'col3': [True, False, True, False]}\n",
        "samp_df = pd.DataFrame(sample_data)\n",
        "print(\"Sample DataFrame:\")\n",
        "display(samp_df)"
      ],
      "metadata": {
        "id": "3SlcryDyFNBG"
      },
      "execution_count": null,
      "outputs": []
    },
    {
      "cell_type": "code",
      "source": [
        "!pip install ydata-profiling"
      ],
      "metadata": {
        "id": "4NMgZVWaHWK-"
      },
      "execution_count": null,
      "outputs": []
    },
    {
      "cell_type": "code",
      "source": [
        "from ydata_profiling import ProfileReport\n",
        "profile = ProfileReport(samp_df, title=\"Titanic Report\")\n",
        "profile.to_notebook_iframe()"
      ],
      "metadata": {
        "id": "Foj3_oK8Hekd"
      },
      "execution_count": null,
      "outputs": []
    },
    {
      "cell_type": "code",
      "source": [
        "profile.to_file(\"Titanic dataset.html\")\n"
      ],
      "metadata": {
        "id": "xtjTcM4oJCga"
      },
      "execution_count": null,
      "outputs": []
    }
  ]
}